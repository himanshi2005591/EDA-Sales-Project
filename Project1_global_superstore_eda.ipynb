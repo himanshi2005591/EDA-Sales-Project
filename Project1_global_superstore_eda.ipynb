{
 "cells": [
  {
   "cell_type": "markdown",
   "id": "8113df0d",
   "metadata": {},
   "source": [
    "# Project 1: Exploratory Data Analysis (EDA) on Global Superstore Dataset\n",
    "\n",
    "**Objective:**  \n",
    "Clean and analyze the Global Superstore dataset to identify trends, patterns, anomalies, and relationships between Sales, Profit, Region, and Product Categories.\n"
   ]
  },
  {
   "cell_type": "code",
   "execution_count": null,
   "id": "609e08fb",
   "metadata": {},
   "outputs": [],
   "source": [
    "import pandas as pd\n",
    "import numpy as np\n",
    "import matplotlib.pyplot as plt\n",
    "import seaborn as sns"
   ]
  },
  {
   "cell_type": "markdown",
   "id": "dd2d6b08",
   "metadata": {},
   "source": [
    "## Step 1: Load the Dataset"
   ]
  },
  {
   "cell_type": "code",
   "execution_count": null,
   "id": "a32c26c5",
   "metadata": {},
   "outputs": [],
   "source": [
    "# Load the dataset\n",
    "df = pd.read_csv(\"Project1_Global_Superstore.csv\")  # <-- Make sure file name is correct"
   ]
  },
  {
   "cell_type": "markdown",
   "id": "b91aa508",
   "metadata": {},
   "source": [
    "##  Step 2: Check Basic Information\n",
    "- Number of rows and columns\n",
    "- Data types\n",
    "- Missing values\n",
    "- Summary statistics"
   ]
  },
  {
   "cell_type": "code",
   "execution_count": null,
   "id": "a9a32e35",
   "metadata": {},
   "outputs": [],
   "source": [
    "# Shape of data\n",
    "print(\"Shape:\", df.shape)\n",
    "\n",
    "# Info about columns\n",
    "df.info()\n",
    "\n",
    "# Summary stats\n",
    "df.describe()\n",
    "\n",
    "df.isnull().sum()\n"
   ]
  },
  {
   "cell_type": "markdown",
   "id": "3015db85",
   "metadata": {},
   "source": [
    "## Step 3: Clean the Data\n",
    "- Remove duplicates\n",
    "- Fill missing values using median"
   ]
  },
  {
   "cell_type": "code",
   "execution_count": null,
   "id": "0c3f484e",
   "metadata": {},
   "outputs": [],
   "source": [
    "df.drop_duplicates(inplace=True)\n",
    "df.fillna(df.median(numeric_only=True), inplace=True)"
   ]
  },
  {
   "cell_type": "markdown",
   "id": "c6b0611a",
   "metadata": {},
   "source": [
    "##  Step 4: Remove Outliers (IQR Method)"
   ]
  },
  {
   "cell_type": "code",
   "execution_count": null,
   "id": "624c3348",
   "metadata": {},
   "outputs": [],
   "source": [
    "# Keep only numeric columns like Sales, Profit, Discount\n",
    "numeric_df = df[[\"Sales\", \"Profit\", \"Discount\"]]  \n",
    "\n",
    "# Calculate Q1 (25%) and Q3 (75%) only for numbers\n",
    "Q1 = numeric_df.quantile(0.25)\n",
    "Q3 = numeric_df.quantile(0.75)\n",
    "IQR = Q3 - Q1\n",
    "\n",
    "# Remove outliers\n",
    "df = df[~((numeric_df < (Q1 - 1.5 * IQR)) | (numeric_df > (Q3 + 1.5 * IQR))).any(axis=1)]\n"
   ]
  },
  {
   "cell_type": "markdown",
   "id": "8b26d3c4",
   "metadata": {},
   "source": [
    "## Step 5: Save Cleaned Data"
   ]
  },
  {
   "cell_type": "code",
   "execution_count": null,
   "id": "03d8cb1a",
   "metadata": {},
   "outputs": [],
   "source": [
    "df.to_csv('Project1_global_superstore_clean.csv', index=False)"
   ]
  },
  {
   "cell_type": "markdown",
   "id": "15660efe",
   "metadata": {},
   "source": [
    "# Step 6: Visualizations\n",
    "Below are the key visualizations to understand data trends, distributions, and relationships."
   ]
  },
  {
   "cell_type": "code",
   "execution_count": null,
   "id": "3b813b60",
   "metadata": {},
   "outputs": [],
   "source": [
    "#Histogram of Sales\n",
    "plt.figure(figsize=(8, 5))\n",
    "sns.histplot(df['Sales'], kde=True)\n",
    "plt.title('Sales Distribution')\n",
    "plt.xlabel('Sales Amount')\n",
    "plt.ylabel('Count')\n",
    "plt.show()"
   ]
  },
  {
   "cell_type": "code",
   "execution_count": null,
   "id": "29afddbe",
   "metadata": {},
   "outputs": [],
   "source": [
    "#Boxplot of Profit (To Detect Outliers)\n",
    "plt.figure(figsize=(8, 3))\n",
    "sns.boxplot(x=df['Profit'])\n",
    "plt.title('Profit - Outlier Detection')\n",
    "plt.xlabel('Profit')\n",
    "plt.show()"
   ]
  },
  {
   "cell_type": "code",
   "execution_count": null,
   "id": "9a0b3d0b",
   "metadata": {},
   "outputs": [],
   "source": [
    "##Correlation Heatmap\n",
    "plt.figure(figsize=(10, 6))\n",
    "sns.heatmap(df.corr(numeric_only=True), annot=True, cmap='coolwarm', fmt=\".2f\")\n",
    "plt.title('Correlation Between Numerical Features')\n",
    "plt.show()"
   ]
  },
  {
   "cell_type": "markdown",
   "id": "75c1c98c",
   "metadata": {},
   "source": [
    "## Summary\n",
    "- Cleaned the dataset by handling missing values, removing duplicates, and dropping outliers.\n",
    "- Found trends in Sales and Profit using histograms and boxplots.\n",
    "- Discovered correlations using heatmaps.\n",
    "\n",
    "Next: We'll use this knowledge to analyze sales performance in **Project 2**.\n"
   ]
  }
 ],
 "metadata": {
  "kernelspec": {
   "display_name": "Python 3",
   "language": "python",
   "name": "python3"
  },
  "language_info": {
   "codemirror_mode": {
    "name": "ipython",
    "version": 3
   },
   "file_extension": ".py",
   "mimetype": "text/x-python",
   "name": "python",
   "nbconvert_exporter": "python",
   "pygments_lexer": "ipython3",
   "version": "3.13.2"
  }
 },
 "nbformat": 4,
 "nbformat_minor": 5
}
